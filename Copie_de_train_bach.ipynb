{
  "nbformat": 4,
  "nbformat_minor": 0,
  "metadata": {
    "accelerator": "GPU",
    "colab": {
      "name": "Copie de train bach.ipynb",
      "provenance": [],
      "collapsed_sections": [],
      "include_colab_link": true
    },
    "kernelspec": {
      "display_name": "Python 3",
      "name": "python3"
    }
  },
  "cells": [
    {
      "cell_type": "markdown",
      "metadata": {
        "id": "view-in-github",
        "colab_type": "text"
      },
      "source": [
        "<a href=\"https://colab.research.google.com/github/pabou38/NYT/blob/main/Copie_de_train_bach.ipynb\" target=\"_parent\"><img src=\"https://colab.research.google.com/assets/colab-badge.svg\" alt=\"Open In Colab\"/></a>"
      ]
    },
    {
      "cell_type": "code",
      "metadata": {
        "id": "onoU8kbPY8XF"
      },
      "source": [
        "# 20 jan 2021\n",
        "\n",
        "#https://towardsdatascience.com/google-colab-import-and-export-datasets-eccf801e2971\n",
        "\n",
        "from google.colab import drive\n",
        "drive.mount('/content/drive')\n",
        "\n",
        "#drive.mount('/content/drive', force_remount=True)\n",
        "# gdrive web interface: Mon Drive/DEEP\n",
        "# authorize rigth user to see ubuntu gdrive content\n",
        "# google drive content: /content/drive/MyDrive\n",
        "# local content, csv dataset: /content/sample_data\n",
        "\n",
        "!pwd\n",
        "!ls /content/drive/MyDrive\n",
        "\n",
        "\n",
        "%tensorflow_version 2.x\n",
        "\n",
        "import tensorflow\n",
        "print('tf version ', tensorflow.__version__)\n"
      ],
      "execution_count": null,
      "outputs": []
    },
    {
      "cell_type": "code",
      "metadata": {
        "id": "3wnag9r_--b6"
      },
      "source": [
        "!ls '/content/drive/My Drive/DEEP/music21'\n",
        "import os\n",
        "os.chdir('/content/drive/My Drive/DEEP/music21')\n",
        "print(os.getcwd())\n",
        "\n",
        "# Load the TensorBoard notebook extension\n",
        "%load_ext tensorboard\n",
        "\n",
        "%matplotlib inline\n",
        "\n",
        "!pip install tflite_support\n",
        "\n"
      ],
      "execution_count": null,
      "outputs": []
    },
    {
      "cell_type": "markdown",
      "metadata": {
        "id": "HVaT1NOg9RKk"
      },
      "source": [
        "use %cd"
      ]
    },
    {
      "cell_type": "markdown",
      "metadata": {
        "id": "Bd9K2JAfx4Yx"
      },
      "source": [
        "run python. need to be in music21"
      ]
    },
    {
      "cell_type": "code",
      "metadata": {
        "id": "hza8FZa6x7Jd"
      },
      "source": [
        "!pwd\n",
        "#Start TensorBoard within the notebook using magics function\n",
        "# log dir is defined in tensorflow call back\n",
        "%tensorboard --logdir tensorboard_log_dir\n",
        "\n",
        "!python play_bach.py -l 0 -f -p -b -sl\n",
        "\n",
        "\n"
      ],
      "execution_count": null,
      "outputs": []
    },
    {
      "cell_type": "code",
      "metadata": {
        "id": "VrlXvF9v-6YD"
      },
      "source": [
        ""
      ],
      "execution_count": null,
      "outputs": []
    },
    {
      "cell_type": "markdown",
      "metadata": {
        "id": "PfJZgJRAFozR"
      },
      "source": [
        "Google Colab notebooks have an idle timeout of 90 minutes and absolute timeout of 12 hours. This means, if user does not interact with his Google Colab notebook for more than 90 minutes, its instance is automatically terminated. Also, maximum lifetime of a Colab instance is 12 hours.\n",
        "\n",
        "https://stackoverflow.com/questions/57113226/how-to-prevent-google-colab-from-disconnecting\n",
        "\n",
        "restart  !kill -9 -1\n",
        "excecution reinitialiser tous les environment: file donwloaded, pip installed. reset VM and start new 12h \n",
        "\n",
        "restart runtime is only for python kernel, not VM\n",
        "\n",
        "\n",
        "use %cd and not !cd\n",
        "\n"
      ]
    }
  ]
}