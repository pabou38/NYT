{
  "nbformat": 4,
  "nbformat_minor": 0,
  "metadata": {
    "accelerator": "GPU",
    "colab": {
      "name": "train bach.ipynb",
      "provenance": [],
      "collapsed_sections": [],
      "include_colab_link": true
    },
    "kernelspec": {
      "display_name": "Python 3",
      "name": "python3"
    }
  },
  "cells": [
    {
      "cell_type": "markdown",
      "metadata": {
        "id": "view-in-github",
        "colab_type": "text"
      },
      "source": [
        "<a href=\"https://colab.research.google.com/github/pabou38/NYT/blob/main/train_bach.ipynb\" target=\"_parent\"><img src=\"https://colab.research.google.com/assets/colab-badge.svg\" alt=\"Open In Colab\"/></a>"
      ]
    },
    {
      "cell_type": "markdown",
      "metadata": {
        "id": "kbg1M5f8jaib"
      },
      "source": [
        "Train Bach"
      ]
    },
    {
      "cell_type": "code",
      "metadata": {
        "id": "onoU8kbPY8XF"
      },
      "source": [
        "# 20 jan 2021\n",
        "\n",
        "#https://towardsdatascience.com/google-colab-import-and-export-datasets-eccf801e2971\n",
        "\n",
        "import os\n",
        "\n",
        "from google.colab import drive\n",
        "drive.mount('/content/drive')\n",
        "\n",
        "#drive.mount('/content/drive', force_remount=True)\n",
        "# gdrive web interface: Mon Drive/DEEP\n",
        "# authorize rigth user to see ubuntu gdrive content\n",
        "# google drive content: /content/drive/MyDrive\n",
        "# local content, csv dataset: /content/sample_data\n",
        "\n",
        "!pwd\n",
        "!ls /content/drive/MyDrive\n",
        "\n",
        "\n",
        "%tensorflow_version 2.x\n",
        "\n",
        "import tensorflow\n",
        "print('\\ntf version ', tensorflow.__version__)\n",
        " \n",
        "!pip install tflite_support # metadata\n",
        "\n",
        "\n",
        "\n",
        "\"\"\"\n",
        "from google.colab import files\n",
        "print ('copy from pc to colab VM')\n",
        "uploaded = files.upload() # form to choose. from PC (can do multiple file) to colab VM\n",
        "# icon with arrow\n",
        "\n",
        "print(uploaded) # dict\n",
        "print(uploaded.keys()) # iterator, \n",
        "print (list(uploaded.keys())) # could also cast to list\n",
        "for i in uploaded.keys():\n",
        "  print(i) # file name uploaded\n",
        "\n",
        "#{'rib.pdf': b'%PDF-1.4\\n%\\xf6\\xe4\\xfc\\xdf\\n1 0 obj\\n<<\\n/Type /Catalog\\n/Version /1.4\\n/Pages 2 0 R\\n>>\\nendobj\\n2 0 obj\n",
        "\n",
        "!pwd\n",
        "os.chdir('/content/sample_data')\n",
        "!pwd\n",
        "# copy from colab VM tp PC download folder\n",
        "files.download('README.md')\n",
        "\"\"\"\n",
        "\n"
      ],
      "execution_count": null,
      "outputs": []
    },
    {
      "cell_type": "code",
      "metadata": {
        "id": "3wnag9r_--b6"
      },
      "source": [
        "%ls '/content/drive/My Drive/DEEP/music21'\n",
        "\n",
        "os.chdir('/content/drive/My Drive/DEEP/music21')\n",
        "print(os.getcwd())\n",
        "\n",
        "# Load the TensorBoard notebook extension\n",
        "%load_ext tensorboard\n",
        "\n",
        "%matplotlib inline\n",
        "\n",
        "\n"
      ],
      "execution_count": null,
      "outputs": []
    },
    {
      "cell_type": "markdown",
      "metadata": {
        "id": "Bd9K2JAfx4Yx"
      },
      "source": [
        "run python. need to be in music21"
      ]
    },
    {
      "cell_type": "code",
      "metadata": {
        "id": "hza8FZa6x7Jd"
      },
      "source": [
        "!pwd\n",
        "#Start TensorBoard within the notebook using magics function\n",
        "# log dir is defined in tensorflow call back\n",
        "%tensorboard --logdir tensorboard_log_dir\n",
        "\n",
        "!python play_bach.py -l 0 -f -p -b -sl\n",
        "\n",
        "# commit to gdrive\n",
        "drive.flush_and_unmount()\n",
        "\n",
        "\n"
      ],
      "execution_count": null,
      "outputs": []
    },
    {
      "cell_type": "markdown",
      "metadata": {
        "id": "XGQOVMk0WVsb"
      },
      "source": [
        "copy models directory to PC as zip file"
      ]
    },
    {
      "cell_type": "code",
      "metadata": {
        "id": "VrlXvF9v-6YD"
      },
      "source": [
        "\r\n",
        "\r\n",
        "# this is to copy from gdrive to PC. going thru colab\r\n",
        "\r\n",
        "\r\n",
        "os.chdir('/content')\r\n",
        "# copy model dir from gdrive to colab\r\n",
        "# seems messy to copy directly from gdrive to PC\r\n",
        "\r\n",
        "print('copy model dir from gdrive to colab VM')\r\n",
        "! cp -r '/content/drive/My Drive/DEEP/music21/models' models\r\n",
        "# will land in /content, ie root of colab VM\r\n",
        "\r\n",
        "# cannot send multiples file to PC. so ZIP\r\n",
        "\r\n",
        "print('copy zip models dir from colab VM to PC')\r\n",
        "!zip -r /content/models.zip /content/models\r\n",
        "files.download('/content/models.zip')"
      ],
      "execution_count": null,
      "outputs": []
    },
    {
      "cell_type": "markdown",
      "metadata": {
        "id": "PfJZgJRAFozR"
      },
      "source": [
        "Google Colab notebooks have an idle timeout of 90 minutes and absolute timeout of 12 hours. This means, if user does not interact with his Google Colab notebook for more than 90 minutes, its instance is automatically terminated. Also, maximum lifetime of a Colab instance is 12 hours.\n",
        "\n",
        "https://stackoverflow.com/questions/57113226/how-to-prevent-google-colab-from-disconnecting\n",
        "\n",
        "restart  !kill -9 -1\n",
        "excecution reinitialiser tous les environment: file donwloaded, pip installed. reset VM and start new 12h \n",
        "\n",
        "restart runtime is only for python kernel, not VM\n",
        "\n",
        "\n",
        "use %cd and not !cd\n",
        "\n"
      ]
    },
    {
      "cell_type": "code",
      "metadata": {
        "id": "j67nMZV1A9Wl"
      },
      "source": [
        ""
      ],
      "execution_count": null,
      "outputs": []
    }
  ]
}